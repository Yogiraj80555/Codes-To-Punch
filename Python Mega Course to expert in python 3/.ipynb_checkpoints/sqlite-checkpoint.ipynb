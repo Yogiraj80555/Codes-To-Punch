{
 "cells": [
  {
   "cell_type": "code",
   "execution_count": 10,
   "metadata": {},
   "outputs": [],
   "source": [
    "import sqlite3\n",
    "conn=sqlite3.connect(\"database.db\")"
   ]
  },
  {
   "cell_type": "code",
   "execution_count": 29,
   "metadata": {},
   "outputs": [
    {
     "name": "stdout",
     "output_type": "stream",
     "text": [
      "DB is created\n",
      "Row Inserted\n",
      "(2, 'bob', 26, 'mech')\n",
      "[(3, 'bob', 26, 'mech'), (4, 'bob', 26, 'mech'), (5, 'bob', 26, 'mech'), (16, 'baob', 220, 'measdch'), (17, 'baob', 220, 'measdch')]\n",
      "[]\n",
      "[]\n",
      "Sqlite Connection close\n"
     ]
    }
   ],
   "source": [
    "cursor=\"\"\n",
    "try:\n",
    "    conn = sqlite3.connect(\"database.db\")\n",
    "    cursor = conn.cursor()\n",
    "    print(\"DB is created\")\n",
    "    #conn.execute('''CREATE table std(stdid INTEGER Primary key autoincrement,\n",
    "    #name Text(29) not null, age INTEGER, Dept text(50));''')\n",
    "    ##without execute\n",
    "#     table = '''CREATE table Dept(deptid INTEGER Primary key autoincrement,\n",
    "#     name Text(29) not null, age INTEGER, DeptProgramms text(50));'''\n",
    "#     cursor.execute(table);\n",
    "#     conn.commit();\n",
    "\n",
    "    ##insert data\n",
    "    cursor.execute(\"Insert into std(name,age,dept)values('baob',220,'measdch')\")\n",
    "    conn.commit()\n",
    "    print(\"Row Inserted\")\n",
    "    \n",
    "    \n",
    "    ##select data\n",
    "    cursor.execute(\"SELECT * from STD;\")\n",
    "    while True:\n",
    "        record = cursor.fetchone();\n",
    "        if record == None:\n",
    "            break;\n",
    "        print(record)\n",
    "        print(cursor.fetchall())\n",
    "        \n",
    "    \n",
    "    ##update data\n",
    "    cursor.execute(\"update STD set age=26 where name='bob';\")\n",
    "    conn.commit()\n",
    "    print(cursor.fetchall())\n",
    "    \n",
    "    ##Delete data\n",
    "    cursor.execute(\"delete from STD where age='22';\")\n",
    "    conn.commit()\n",
    "    print(cursor.fetchall())\n",
    "    cursor.close();\n",
    "    \n",
    "    \n",
    "    ##Python database limit\n",
    "    cursor=execute(\"SELECT * from std LIMIT 2;\")\n",
    "    print(cursor.fetchall())\n",
    "    \n",
    "    \n",
    "except sqlite.Error as e:\n",
    "    print(e)\n",
    "    #if any exceptiojn is come after commit then remove current inserted\n",
    "    conn.rollback()\n",
    "finally:\n",
    "    if(conn):\n",
    "        conn.close()\n",
    "        print(\"Sqlite Connection close\")"
   ]
  },
  {
   "cell_type": "code",
   "execution_count": null,
   "metadata": {},
   "outputs": [],
   "source": []
  }
 ],
 "metadata": {
  "kernelspec": {
   "display_name": "Python 3",
   "language": "python",
   "name": "python3"
  },
  "language_info": {
   "codemirror_mode": {
    "name": "ipython",
    "version": 3
   },
   "file_extension": ".py",
   "mimetype": "text/x-python",
   "name": "python",
   "nbconvert_exporter": "python",
   "pygments_lexer": "ipython3",
   "version": "3.7.9"
  }
 },
 "nbformat": 4,
 "nbformat_minor": 4
}
