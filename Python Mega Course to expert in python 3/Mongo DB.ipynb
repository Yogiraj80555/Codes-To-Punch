{
 "cells": [
  {
   "cell_type": "code",
   "execution_count": 1,
   "metadata": {},
   "outputs": [],
   "source": [
    "import pymongo\n",
    "conn = pymongo.MongoClient(\"mongodb://192.168.0.100:27017/\")"
   ]
  },
  {
   "cell_type": "code",
   "execution_count": 2,
   "metadata": {},
   "outputs": [
    {
     "name": "stdout",
     "output_type": "stream",
     "text": [
      "\n",
      "Please wait a moment while I gather a list of all available modules...\n",
      "\n"
     ]
    },
    {
     "name": "stderr",
     "output_type": "stream",
     "text": [
      "h:\\python\\python392\\lib\\site-packages\\IPython\\kernel\\__init__.py:12: ShimWarning: The `IPython.kernel` package has been deprecated since IPython 4.0.You should import from ipykernel or jupyter_client instead.\n",
      "  warn(\"The `IPython.kernel` package has been deprecated since IPython 4.0.\"\n",
      "h:\\python\\python392\\lib\\site-packages\\setuptools\\distutils_patch.py:25: UserWarning: Distutils was imported before Setuptools. This usage is discouraged and may exhibit undesirable behaviors or errors. Please use Setuptools' objects directly or at least import Setuptools first.\n",
      "  warnings.warn(\n",
      "h:\\python\\python392\\lib\\pkgutil.py:108: VisibleDeprecationWarning: zmq.eventloop.minitornado is deprecated in pyzmq 14.0 and will be removed.\n",
      "    Install tornado itself to use zmq with the tornado IOLoop.\n",
      "    \n",
      "  yield from walk_packages(path, info.name+'.', onerror)\n"
     ]
    },
    {
     "name": "stdout",
     "output_type": "stream",
     "text": [
      "1                   binascii            marshal             string\n",
      "IPython             binhex              math                stringprep\n",
      "__future__          bisect              matplotlib_inline   struct\n",
      "_abc                bleach              mimetypes           subprocess\n",
      "_aix_support        bson                mistune             sunau\n",
      "_ast                builtins            mmap                symbol\n",
      "_asyncio            bz2                 mmapfile            sympyprinting\n",
      "_bisect             cProfile            mmsystem            symtable\n",
      "_blake2             calendar            modulefinder        sys\n",
      "_bootlocale         certifi             msilib              sysconfig\n",
      "_bootsubprocess     cffi                msvcrt              tabnanny\n",
      "_bz2                cgi                 multiprocessing     tarfile\n",
      "_cffi_backend       cgitb               nbclassic           telnetlib\n",
      "_codecs             charset_normalizer  nbclient            tempfile\n",
      "_codecs_cn          chunk               nbconvert           terminado\n",
      "_codecs_hk          cmath               nbformat            test\n",
      "_codecs_iso2022     cmd                 nest_asyncio        testpath\n",
      "_codecs_jp          code                netbios             tests\n",
      "_codecs_kr          codecs              netrc               textwrap\n",
      "_codecs_tw          codeop              nntplib             this\n",
      "_collections        collections         notebook            threading\n",
      "_collections_abc    colorama            nt                  time\n",
      "_compat_pickle      colorsys            ntpath              timeit\n",
      "_compression        commctrl            ntsecuritycon       timer\n",
      "_contextvars        compileall          nturl2path          tkinter\n",
      "_csv                concurrent          numbers             token\n",
      "_ctypes             configparser        odbc                tokenize\n",
      "_ctypes_test        contextlib          opcode              tornado\n",
      "_datetime           contextvars         operator            trace\n",
      "_decimal            copy                optparse            traceback\n",
      "_elementtree        copyreg             os                  tracemalloc\n",
      "_functools          crypt               packaging           traitlets\n",
      "_hashlib            csv                 pandocfilters       tty\n",
      "_heapq              ctypes              parser              turtle\n",
      "_imp                curses              parso               turtledemo\n",
      "_io                 cythonmagic         pathlib             types\n",
      "_json               dataclasses         pdb                 typing\n",
      "_locale             datetime            perfmon             unicodedata\n",
      "_lsprof             dateutil            pickle              unittest\n",
      "_lzma               dbi                 pickleshare         urllib\n",
      "_markupbase         dbm                 pickletools         urllib3\n",
      "_md5                dde                 pip                 uu\n",
      "_msi                debugpy             pipes               uuid\n",
      "_multibytecodec     decimal             pkg_resources       venv\n",
      "_multiprocessing    decorator           pkgutil             warnings\n",
      "_opcode             defusedxml          platform            wave\n",
      "_operator           difflib             plistlib            wcwidth\n",
      "_osx_support        dis                 poplib              weakref\n",
      "_overlapped         distutils           posixpath           webbrowser\n",
      "_peg_parser         doctest             pprint              webencodings\n",
      "_pickle             easy_install        profile             websocket\n",
      "_py_abc             email               prometheus_client   win2kras\n",
      "_pydecimal          encodings           prompt_toolkit      win32api\n",
      "_pyio               ensurepip           pstats              win32clipboard\n",
      "_pyrsistent_version entrypoints         pty                 win32com\n",
      "_queue              enum                pvectorc            win32con\n",
      "_random             errno               py_compile          win32console\n",
      "_sha1               faulthandler        pyclbr              win32cred\n",
      "_sha256             filecmp             pycparser           win32crypt\n",
      "_sha3               fileinput           pydoc               win32cryptcon\n",
      "_sha512             fnmatch             pydoc_data          win32event\n",
      "_signal             formatter           pyexpat             win32evtlog\n",
      "_sitebuiltins       fractions           pygments            win32evtlogutil\n",
      "_socket             ftplib              pymongo             win32file\n",
      "_sqlite3            functools           pyparsing           win32gui\n",
      "_sre                gc                  pyrsistent          win32gui_struct\n",
      "_ssl                genericpath         pythoncom           win32help\n",
      "_stat               getopt              pytz                win32inet\n",
      "_statistics         getpass             pywin               win32inetcon\n",
      "_string             gettext             pywin32_bootstrap   win32job\n",
      "_strptime           glob                pywin32_testutil    win32lz\n",
      "_struct             graphlib            pywintypes          win32net\n",
      "_symtable           gridfs              queue               win32netcon\n",
      "_testbuffer         gzip                quopri              win32pdh\n",
      "_testcapi           hashlib             random              win32pdhquery\n",
      "_testconsole        heapq               rasutil             win32pdhutil\n",
      "_testimportmultiple hmac                re                  win32pipe\n",
      "_testinternalcapi   html                regcheck            win32print\n",
      "_testmultiphase     http                regutil             win32process\n",
      "_thread             idlelib             reprlib             win32profile\n",
      "_threading_local    idna                requests            win32ras\n",
      "_tkinter            imaplib             requests_unixsocket win32rcparser\n",
      "_tracemalloc        imghdr              rlcompleter         win32security\n",
      "_uuid               imp                 rmagic              win32service\n",
      "_warnings           importlib           runpy               win32serviceutil\n",
      "_weakref            inspect             sched               win32timezone\n",
      "_weakrefset         io                  secrets             win32trace\n",
      "_win32sysloader     ipaddress           select              win32traceutil\n",
      "_winapi             ipykernel           selectors           win32transaction\n",
      "_winxptheme         ipykernel_launcher  send2trash          win32ts\n",
      "_xxsubinterpreters  ipython_genutils    servicemanager      win32ui\n",
      "_zoneinfo           isapi               setuptools          win32uiole\n",
      "abc                 itertools           shelve              win32verstamp\n",
      "adodbapi            jedi                shlex               win32wnet\n",
      "afxres              jinja2              shutil              winerror\n",
      "aifc                json                signal              winioctlcon\n",
      "antigravity         json5               site                winnt\n",
      "anyio               jsonschema          six                 winperf\n",
      "argon2              jupyter             smtpd               winpty\n",
      "argparse            jupyter_client      smtplib             winreg\n",
      "array               jupyter_core        sndhdr              winsound\n",
      "ast                 jupyter_server      sniffio             winxpgui\n",
      "async_generator     jupyterlab          socket              winxptheme\n",
      "asynchat            jupyterlab_pygments socketserver        wsgiref\n",
      "asyncio             jupyterlab_server   sqlite3             xdrlib\n",
      "asyncore            keyword             sre_compile         xml\n",
      "atexit              lib2to3             sre_constants       xmlrpc\n",
      "attr                linecache           sre_parse           xxsubtype\n",
      "audioop             locale              ssl                 zipapp\n",
      "autoreload          logging             sspi                zipfile\n",
      "babel               lzma                sspicon             zipimport\n",
      "backcall            mailbox             stat                zlib\n",
      "base64              mailcap             statistics          zmq\n",
      "bdb                 markupsafe          storemagic          zoneinfo\n",
      "\n",
      "Enter any module name to get more help.  Or, type \"modules spam\" to search\n",
      "for modules whose name or summary contain the string \"spam\".\n",
      "\n",
      "3.9.3\n"
     ]
    }
   ],
   "source": [
    "help('modules')\n",
    "from platform import python_version\n",
    "\n",
    "print(python_version())"
   ]
  },
  {
   "cell_type": "code",
   "execution_count": 3,
   "metadata": {},
   "outputs": [
    {
     "name": "stdout",
     "output_type": "stream",
     "text": [
      "<bound method MongoClient.list_database_names of MongoClient(host=['192.168.0.100:27017'], document_class=dict, tz_aware=False, connect=True)>\n",
      "Database(MongoClient(host=['192.168.0.100:27017'], document_class=dict, tz_aware=False, connect=True), 'python')\n"
     ]
    }
   ],
   "source": [
    "database=conn[\"python\"]\n",
    "print(conn.list_database_names)\n",
    "print(database)"
   ]
  },
  {
   "cell_type": "code",
   "execution_count": 4,
   "metadata": {},
   "outputs": [
    {
     "name": "stdout",
     "output_type": "stream",
     "text": [
      "DB created and connected done\n"
     ]
    }
   ],
   "source": [
    "from pymongo import MongoClient\n",
    "conn = MongoClient(\"192.168.0.100\",27017)\n",
    "\n",
    "database=conn[\"python\"]\n",
    "print(\"DB created and connected done\")"
   ]
  },
  {
   "cell_type": "code",
   "execution_count": 5,
   "metadata": {},
   "outputs": [
    {
     "name": "stdout",
     "output_type": "stream",
     "text": [
      "['user']\n",
      "60f4253f960ef094248e9f3e\n",
      "[ObjectId('60f4253f960ef094248e9f3f'), ObjectId('60f4253f960ef094248e9f40'), ObjectId('60f4253f960ef094248e9f41'), ObjectId('60f4253f960ef094248e9f42'), ObjectId('60f4253f960ef094248e9f43'), ObjectId('60f4253f960ef094248e9f44')]\n"
     ]
    }
   ],
   "source": [
    "#create collection\n",
    "import pymongo \n",
    "conn = pymongo.MongoClient(\"mongodb://localhost:27017\")\n",
    "database=conn[\"python\"]\n",
    "collection = database.list_collection_names()\n",
    "print(collection)\n",
    "collection = database[\"user\"]\n",
    "insert = {\"name\":\"asdoan\",\"age\":32}\n",
    "insert_many = [{\"name\":\"oaasdn\",\"age\":22},\n",
    "          {\"name\":\"osdfan\",\"age\":42},\n",
    "          {\"name\":\"an\",\"age\":12},\n",
    "          {\"name\":\"sdfan\",\"age\":56},\n",
    "          {\"name\":\"asdfgan\",\"age\":34},\n",
    "          {\"name\":\"asdfan\",\"age\":31}]\n",
    "a=collection.insert_one(insert)\n",
    "b=collection.insert_many(insert_many)\n",
    "print(a.inserted_id)\n",
    "print(b.inserted_ids)"
   ]
  },
  {
   "cell_type": "code",
   "execution_count": 6,
   "metadata": {},
   "outputs": [
    {
     "name": "stdout",
     "output_type": "stream",
     "text": [
      "{'_id': ObjectId('60f3c4eca2dc36ad25280f25'), 'name': 'Python', 'age': 20.0}\n",
      "[{'_id': ObjectId('60f3c4eca2dc36ad25280f25'), 'name': 'Python', 'age': 20.0}, {'_id': ObjectId('60f3d2fcaff27771e9d1b93d'), 'name': 'don', 'age': 30}, {'_id': ObjectId('60f3d32aaff27771e9d1b93f'), 'name': 'doan', 'age': 30}, {'_id': ObjectId('60f3d3bcaff27771e9d1b941'), 'name': 'asdoan', 'age': 32}, {'_id': ObjectId('60f3d3ceaff27771e9d1b943'), 'name': 'asdoan', 'age': 32}, {'_id': ObjectId('60f3d3ceaff27771e9d1b944'), 'name': 'oaasdn', 'age': 22}, {'_id': ObjectId('60f3d3ceaff27771e9d1b945'), 'name': 'osdfan', 'age': 42}, {'_id': ObjectId('60f3d3ceaff27771e9d1b946'), 'name': 'an', 'age': 12}, {'_id': ObjectId('60f3d3ceaff27771e9d1b947'), 'name': 'sdfan', 'age': 56}, {'_id': ObjectId('60f3d3ceaff27771e9d1b948'), 'name': 'asdfgan', 'age': 34}, {'_id': ObjectId('60f3d3ceaff27771e9d1b949'), 'name': 'asdfan', 'age': 31}, {'_id': ObjectId('60f3d3dcaff27771e9d1b94b'), 'name': 'asdoan', 'age': 32}, {'_id': ObjectId('60f3d3dcaff27771e9d1b94c'), 'name': 'oaasdn', 'age': 22}, {'_id': ObjectId('60f3d3dcaff27771e9d1b94d'), 'name': 'osdfan', 'age': 42}, {'_id': ObjectId('60f3d3dcaff27771e9d1b94e'), 'name': 'an', 'age': 12}, {'_id': ObjectId('60f3d3dcaff27771e9d1b94f'), 'name': 'sdfan', 'age': 56}, {'_id': ObjectId('60f3d3dcaff27771e9d1b950'), 'name': 'asdfgan', 'age': 34}, {'_id': ObjectId('60f3d3dcaff27771e9d1b951'), 'name': 'asdfan', 'age': 31}, {'_id': ObjectId('60f3d44faff27771e9d1b953'), 'name': 'asdoan', 'age': 32}, {'_id': ObjectId('60f3d44faff27771e9d1b954'), 'name': 'oaasdn', 'age': 22}, {'_id': ObjectId('60f3d44faff27771e9d1b955'), 'name': 'osdfan', 'age': 42}, {'_id': ObjectId('60f3d44faff27771e9d1b956'), 'name': 'an', 'age': 12}, {'_id': ObjectId('60f3d44faff27771e9d1b957'), 'name': 'sdfan', 'age': 56}, {'_id': ObjectId('60f3d44faff27771e9d1b958'), 'name': 'asdfgan', 'age': 34}, {'_id': ObjectId('60f3d44faff27771e9d1b959'), 'name': 'asdfan', 'age': 31}, {'_id': ObjectId('60f4253f960ef094248e9f3e'), 'name': 'asdoan', 'age': 32}, {'_id': ObjectId('60f4253f960ef094248e9f3f'), 'name': 'oaasdn', 'age': 22}, {'_id': ObjectId('60f4253f960ef094248e9f40'), 'name': 'osdfan', 'age': 42}, {'_id': ObjectId('60f4253f960ef094248e9f41'), 'name': 'an', 'age': 12}, {'_id': ObjectId('60f4253f960ef094248e9f42'), 'name': 'sdfan', 'age': 56}, {'_id': ObjectId('60f4253f960ef094248e9f43'), 'name': 'asdfgan', 'age': 34}, {'_id': ObjectId('60f4253f960ef094248e9f44'), 'name': 'asdfan', 'age': 31}] 32\n"
     ]
    }
   ],
   "source": [
    "#find Operation\n",
    "find = collection.find_one()\n",
    "print(find)\n",
    "#find all\n",
    "find =[f for f in collection.find()]\n",
    "print(find,len(find))"
   ]
  },
  {
   "cell_type": "code",
   "execution_count": 9,
   "metadata": {},
   "outputs": [
    {
     "name": "stdout",
     "output_type": "stream",
     "text": [
      "[{'_id': ObjectId('60f3d3ceaff27771e9d1b947'), 'name': 'sdfan', 'age': 56}, {'_id': ObjectId('60f3d3dcaff27771e9d1b94f'), 'name': 'sdfan', 'age': 56}, {'_id': ObjectId('60f3d44faff27771e9d1b957'), 'name': 'sdfan', 'age': 56}, {'_id': ObjectId('60f4253f960ef094248e9f42'), 'name': 'sdfan', 'age': 56}]\n",
      "\n",
      "Greter than G [{'_id': ObjectId('60f3d3ceaff27771e9d1b944'), 'name': 'oaasdn', 'age': 22}, {'_id': ObjectId('60f3d3ceaff27771e9d1b945'), 'name': 'osdfan', 'age': 42}, {'_id': ObjectId('60f3d3ceaff27771e9d1b947'), 'name': 'sdfan', 'age': 56}, {'_id': ObjectId('60f3d3dcaff27771e9d1b94c'), 'name': 'oaasdn', 'age': 22}, {'_id': ObjectId('60f3d3dcaff27771e9d1b94d'), 'name': 'osdfan', 'age': 42}, {'_id': ObjectId('60f3d3dcaff27771e9d1b94f'), 'name': 'sdfan', 'age': 56}, {'_id': ObjectId('60f3d44faff27771e9d1b954'), 'name': 'oaasdn', 'age': 22}, {'_id': ObjectId('60f3d44faff27771e9d1b955'), 'name': 'osdfan', 'age': 42}, {'_id': ObjectId('60f3d44faff27771e9d1b957'), 'name': 'sdfan', 'age': 56}, {'_id': ObjectId('60f4253f960ef094248e9f3f'), 'name': 'oaasdn', 'age': 22}, {'_id': ObjectId('60f4253f960ef094248e9f40'), 'name': 'osdfan', 'age': 42}, {'_id': ObjectId('60f4253f960ef094248e9f42'), 'name': 'sdfan', 'age': 56}]\n"
     ]
    }
   ],
   "source": [
    "#mongodb select query\n",
    "documents=collection.find({\"name\":\"sdfan\"})\n",
    "documents = [doc for doc in documents]\n",
    "print(documents)\n",
    "documents=collection.find({\"name\":{\"$gt\":\"g\"}})#name = value is greter than g\n",
    "documents = [doc for doc in documents]\n",
    "print(\"\\nGreter than G\",documents)"
   ]
  },
  {
   "cell_type": "code",
   "execution_count": 13,
   "metadata": {},
   "outputs": [
    {
     "name": "stdout",
     "output_type": "stream",
     "text": [
      "3  Documets Updates\n",
      " [{'_id': ObjectId('60f3d3dcaff27771e9d1b94f'), 'name': 'blexa', 'age': 56}, {'_id': ObjectId('60f3d44faff27771e9d1b957'), 'name': 'blexa', 'age': 56}, {'_id': ObjectId('60f4253f960ef094248e9f42'), 'name': 'blexa', 'age': 56}]\n"
     ]
    }
   ],
   "source": [
    "#uodate query\n",
    "query={\"name\":{\"$gt\":'g'}}\n",
    "updated_val={\"$set\":{\"name\":\"Alexa\"}}\n",
    "collection.update_one(query,updated_val)#updating one value\n",
    "#collection.update_many(query,updated_val)#updating many values\n",
    "\n",
    "query={\"name\":{\"$regex\":'^s'}}\n",
    "updated_val={\"$set\":{\"name\":\"blexa\"}}\n",
    "a = collection.update_many(query,updated_val)\n",
    "documents=collection.find({\"name\":\"blexa\"})\n",
    "print(a.modified_count,\" Documets Updates\")\n",
    "documents = [doc for doc in documents]\n",
    "print(\"\",documents)"
   ]
  },
  {
   "cell_type": "code",
   "execution_count": 23,
   "metadata": {},
   "outputs": [
    {
     "name": "stdout",
     "output_type": "stream",
     "text": [
      "4  Documets Deleted\n",
      " []\n"
     ]
    }
   ],
   "source": [
    "#delete query\n",
    "query={\"name\":\"osdfan\"}\n",
    "query={\"age\":{\"$regex\":\"^56\"}}\n",
    "query={\"age\":31}\n",
    "#collection.delete_one(query)#deleteing one document\n",
    "a = collection.delete_many(query)#deleteing many document\n",
    "#a = collection.delete_many({})#for deleting entire collection\n",
    "documents=collection.find(query)\n",
    "print(a.deleted_count,\" Documets Deleted\")\n",
    "documents = [doc for doc in documents]\n",
    "print(\"\",documents)\n"
   ]
  },
  {
   "cell_type": "code",
   "execution_count": 28,
   "metadata": {},
   "outputs": [
    {
     "name": "stdout",
     "output_type": "stream",
     "text": [
      " [{'_id': ObjectId('60f3d3ceaff27771e9d1b946'), 'name': 'an', 'age': 12}, {'_id': ObjectId('60f3d3dcaff27771e9d1b94e'), 'name': 'an', 'age': 12}]\n"
     ]
    }
   ],
   "source": [
    "#limit operation\n",
    "query = {\"name\":\"an\"}\n",
    "documents=collection.find(query).limit(2)\n",
    "documents = [doc for doc in documents]\n",
    "print(\"\",documents)"
   ]
  },
  {
   "cell_type": "code",
   "execution_count": 29,
   "metadata": {},
   "outputs": [],
   "source": [
    "#drop collection\n",
    "collection.drop()#droping entire data from current collection\n",
    "#it return true if operation completed successfully"
   ]
  },
  {
   "cell_type": "code",
   "execution_count": null,
   "metadata": {},
   "outputs": [],
   "source": []
  }
 ],
 "metadata": {
  "kernelspec": {
   "display_name": "Python 3 (ipykernel)",
   "language": "python",
   "name": "python3"
  },
  "language_info": {
   "codemirror_mode": {
    "name": "ipython",
    "version": 3
   },
   "file_extension": ".py",
   "mimetype": "text/x-python",
   "name": "python",
   "nbconvert_exporter": "python",
   "pygments_lexer": "ipython3",
   "version": "3.9.3"
  }
 },
 "nbformat": 4,
 "nbformat_minor": 4
}
